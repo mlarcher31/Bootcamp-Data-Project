{
 "cells": [
  {
   "cell_type": "markdown",
   "metadata": {},
   "source": [
    "## 1 - Import des modules usuels de traitement de données"
   ]
  },
  {
   "cell_type": "code",
   "execution_count": 1,
   "metadata": {},
   "outputs": [],
   "source": [
    "import pandas as pd\n",
    "import numpy as np \n",
    "import seaborn as sns\n",
    "import matplotlib.pyplot as plt"
   ]
  },
  {
   "cell_type": "markdown",
   "metadata": {},
   "source": [
    "## 2- Import et découverte du dataset"
   ]
  },
  {
   "cell_type": "code",
   "execution_count": 2,
   "metadata": {},
   "outputs": [],
   "source": [
    "#Import du dataset initial\n",
    "project = pd.read_csv('Initial dataset/Video_Game_Sales_as_of_Jan_2017.csv')"
   ]
  },
  {
   "cell_type": "code",
   "execution_count": 3,
   "metadata": {},
   "outputs": [
    {
     "name": "stdout",
     "output_type": "stream",
     "text": [
      "<class 'pandas.core.frame.DataFrame'>\n",
      "RangeIndex: 17416 entries, 0 to 17415\n",
      "Data columns (total 15 columns):\n",
      " #   Column           Non-Null Count  Dtype  \n",
      "---  ------           --------------  -----  \n",
      " 0   Name             17416 non-null  object \n",
      " 1   Platform         17416 non-null  object \n",
      " 2   Year_of_Release  17408 non-null  float64\n",
      " 3   Genre            17416 non-null  object \n",
      " 4   Publisher        17415 non-null  object \n",
      " 5   NA_Sales         17416 non-null  float64\n",
      " 6   EU_Sales         17416 non-null  float64\n",
      " 7   JP_Sales         17416 non-null  float64\n",
      " 8   Other_Sales      17416 non-null  float64\n",
      " 9   Global_Sales     17416 non-null  float64\n",
      " 10  Critic_Score     8336 non-null   float64\n",
      " 11  Critic_Count     8336 non-null   float64\n",
      " 12  User_Score       7798 non-null   float64\n",
      " 13  User_Count       7798 non-null   float64\n",
      " 14  Rating           10252 non-null  object \n",
      "dtypes: float64(10), object(5)\n",
      "memory usage: 2.0+ MB\n"
     ]
    }
   ],
   "source": [
    "#Découverte du dataset\n",
    "project.info()"
   ]
  },
  {
   "cell_type": "code",
   "execution_count": 4,
   "metadata": {},
   "outputs": [
    {
     "data": {
      "text/html": [
       "<div>\n",
       "<style scoped>\n",
       "    .dataframe tbody tr th:only-of-type {\n",
       "        vertical-align: middle;\n",
       "    }\n",
       "\n",
       "    .dataframe tbody tr th {\n",
       "        vertical-align: top;\n",
       "    }\n",
       "\n",
       "    .dataframe thead th {\n",
       "        text-align: right;\n",
       "    }\n",
       "</style>\n",
       "<table border=\"1\" class=\"dataframe\">\n",
       "  <thead>\n",
       "    <tr style=\"text-align: right;\">\n",
       "      <th></th>\n",
       "      <th>Name</th>\n",
       "      <th>Platform</th>\n",
       "      <th>Year_of_Release</th>\n",
       "      <th>Genre</th>\n",
       "      <th>Publisher</th>\n",
       "      <th>NA_Sales</th>\n",
       "      <th>EU_Sales</th>\n",
       "      <th>JP_Sales</th>\n",
       "      <th>Other_Sales</th>\n",
       "      <th>Global_Sales</th>\n",
       "      <th>Critic_Score</th>\n",
       "      <th>Critic_Count</th>\n",
       "      <th>User_Score</th>\n",
       "      <th>User_Count</th>\n",
       "      <th>Rating</th>\n",
       "    </tr>\n",
       "  </thead>\n",
       "  <tbody>\n",
       "    <tr>\n",
       "      <th>0</th>\n",
       "      <td>Wii Sports</td>\n",
       "      <td>Wii</td>\n",
       "      <td>2006.0</td>\n",
       "      <td>Sports</td>\n",
       "      <td>Nintendo</td>\n",
       "      <td>41.36</td>\n",
       "      <td>28.96</td>\n",
       "      <td>3.77</td>\n",
       "      <td>8.45</td>\n",
       "      <td>82.54</td>\n",
       "      <td>76.0</td>\n",
       "      <td>51.0</td>\n",
       "      <td>8.0</td>\n",
       "      <td>324.0</td>\n",
       "      <td>E</td>\n",
       "    </tr>\n",
       "    <tr>\n",
       "      <th>1</th>\n",
       "      <td>Super Mario Bros.</td>\n",
       "      <td>NES</td>\n",
       "      <td>1985.0</td>\n",
       "      <td>Platform</td>\n",
       "      <td>Nintendo</td>\n",
       "      <td>29.08</td>\n",
       "      <td>3.58</td>\n",
       "      <td>6.81</td>\n",
       "      <td>0.77</td>\n",
       "      <td>40.24</td>\n",
       "      <td>NaN</td>\n",
       "      <td>NaN</td>\n",
       "      <td>NaN</td>\n",
       "      <td>NaN</td>\n",
       "      <td>NaN</td>\n",
       "    </tr>\n",
       "    <tr>\n",
       "      <th>2</th>\n",
       "      <td>Mario Kart Wii</td>\n",
       "      <td>Wii</td>\n",
       "      <td>2008.0</td>\n",
       "      <td>Racing</td>\n",
       "      <td>Nintendo</td>\n",
       "      <td>15.68</td>\n",
       "      <td>12.80</td>\n",
       "      <td>3.79</td>\n",
       "      <td>3.29</td>\n",
       "      <td>35.57</td>\n",
       "      <td>82.0</td>\n",
       "      <td>73.0</td>\n",
       "      <td>8.3</td>\n",
       "      <td>712.0</td>\n",
       "      <td>E</td>\n",
       "    </tr>\n",
       "    <tr>\n",
       "      <th>3</th>\n",
       "      <td>Wii Sports Resort</td>\n",
       "      <td>Wii</td>\n",
       "      <td>2009.0</td>\n",
       "      <td>Sports</td>\n",
       "      <td>Nintendo</td>\n",
       "      <td>15.61</td>\n",
       "      <td>10.95</td>\n",
       "      <td>3.28</td>\n",
       "      <td>2.95</td>\n",
       "      <td>32.78</td>\n",
       "      <td>80.0</td>\n",
       "      <td>73.0</td>\n",
       "      <td>8.0</td>\n",
       "      <td>193.0</td>\n",
       "      <td>E</td>\n",
       "    </tr>\n",
       "    <tr>\n",
       "      <th>4</th>\n",
       "      <td>Pokemon Red/Pokemon Blue</td>\n",
       "      <td>G</td>\n",
       "      <td>1996.0</td>\n",
       "      <td>Role-Playing</td>\n",
       "      <td>Nintendo</td>\n",
       "      <td>11.27</td>\n",
       "      <td>8.89</td>\n",
       "      <td>10.22</td>\n",
       "      <td>1.00</td>\n",
       "      <td>31.37</td>\n",
       "      <td>NaN</td>\n",
       "      <td>NaN</td>\n",
       "      <td>NaN</td>\n",
       "      <td>NaN</td>\n",
       "      <td>NaN</td>\n",
       "    </tr>\n",
       "  </tbody>\n",
       "</table>\n",
       "</div>"
      ],
      "text/plain": [
       "                       Name Platform  Year_of_Release         Genre Publisher  \\\n",
       "0                Wii Sports      Wii           2006.0        Sports  Nintendo   \n",
       "1         Super Mario Bros.      NES           1985.0      Platform  Nintendo   \n",
       "2            Mario Kart Wii      Wii           2008.0        Racing  Nintendo   \n",
       "3         Wii Sports Resort      Wii           2009.0        Sports  Nintendo   \n",
       "4  Pokemon Red/Pokemon Blue        G           1996.0  Role-Playing  Nintendo   \n",
       "\n",
       "   NA_Sales  EU_Sales  JP_Sales  Other_Sales  Global_Sales  Critic_Score  \\\n",
       "0     41.36     28.96      3.77         8.45         82.54          76.0   \n",
       "1     29.08      3.58      6.81         0.77         40.24           NaN   \n",
       "2     15.68     12.80      3.79         3.29         35.57          82.0   \n",
       "3     15.61     10.95      3.28         2.95         32.78          80.0   \n",
       "4     11.27      8.89     10.22         1.00         31.37           NaN   \n",
       "\n",
       "   Critic_Count  User_Score  User_Count Rating  \n",
       "0          51.0         8.0       324.0      E  \n",
       "1           NaN         NaN         NaN    NaN  \n",
       "2          73.0         8.3       712.0      E  \n",
       "3          73.0         8.0       193.0      E  \n",
       "4           NaN         NaN         NaN    NaN  "
      ]
     },
     "execution_count": 4,
     "metadata": {},
     "output_type": "execute_result"
    }
   ],
   "source": [
    "#Découverte du dataset\n",
    "project.head()"
   ]
  },
  {
   "cell_type": "code",
   "execution_count": 5,
   "metadata": {},
   "outputs": [
    {
     "data": {
      "text/html": [
       "<div>\n",
       "<style scoped>\n",
       "    .dataframe tbody tr th:only-of-type {\n",
       "        vertical-align: middle;\n",
       "    }\n",
       "\n",
       "    .dataframe tbody tr th {\n",
       "        vertical-align: top;\n",
       "    }\n",
       "\n",
       "    .dataframe thead th {\n",
       "        text-align: right;\n",
       "    }\n",
       "</style>\n",
       "<table border=\"1\" class=\"dataframe\">\n",
       "  <thead>\n",
       "    <tr style=\"text-align: right;\">\n",
       "      <th></th>\n",
       "      <th>Name</th>\n",
       "      <th>Platform</th>\n",
       "      <th>Year_of_Release</th>\n",
       "      <th>Genre</th>\n",
       "      <th>Publisher</th>\n",
       "      <th>NA_Sales</th>\n",
       "      <th>EU_Sales</th>\n",
       "      <th>JP_Sales</th>\n",
       "      <th>Other_Sales</th>\n",
       "      <th>Global_Sales</th>\n",
       "      <th>Critic_Score</th>\n",
       "      <th>Critic_Count</th>\n",
       "      <th>User_Score</th>\n",
       "      <th>User_Count</th>\n",
       "      <th>Rating</th>\n",
       "    </tr>\n",
       "  </thead>\n",
       "  <tbody>\n",
       "    <tr>\n",
       "      <th>count</th>\n",
       "      <td>17416</td>\n",
       "      <td>17416</td>\n",
       "      <td>17408.000000</td>\n",
       "      <td>17416</td>\n",
       "      <td>17415</td>\n",
       "      <td>17416.000000</td>\n",
       "      <td>17416.000000</td>\n",
       "      <td>17416.000000</td>\n",
       "      <td>17416.000000</td>\n",
       "      <td>17416.000000</td>\n",
       "      <td>8336.000000</td>\n",
       "      <td>8336.000000</td>\n",
       "      <td>7798.000000</td>\n",
       "      <td>7798.000000</td>\n",
       "      <td>10252</td>\n",
       "    </tr>\n",
       "    <tr>\n",
       "      <th>unique</th>\n",
       "      <td>12080</td>\n",
       "      <td>31</td>\n",
       "      <td>NaN</td>\n",
       "      <td>12</td>\n",
       "      <td>627</td>\n",
       "      <td>NaN</td>\n",
       "      <td>NaN</td>\n",
       "      <td>NaN</td>\n",
       "      <td>NaN</td>\n",
       "      <td>NaN</td>\n",
       "      <td>NaN</td>\n",
       "      <td>NaN</td>\n",
       "      <td>NaN</td>\n",
       "      <td>NaN</td>\n",
       "      <td>8</td>\n",
       "    </tr>\n",
       "    <tr>\n",
       "      <th>top</th>\n",
       "      <td>Need for Speed: Most Wanted</td>\n",
       "      <td>DS</td>\n",
       "      <td>NaN</td>\n",
       "      <td>Action</td>\n",
       "      <td>Electronic Arts</td>\n",
       "      <td>NaN</td>\n",
       "      <td>NaN</td>\n",
       "      <td>NaN</td>\n",
       "      <td>NaN</td>\n",
       "      <td>NaN</td>\n",
       "      <td>NaN</td>\n",
       "      <td>NaN</td>\n",
       "      <td>NaN</td>\n",
       "      <td>NaN</td>\n",
       "      <td>E</td>\n",
       "    </tr>\n",
       "    <tr>\n",
       "      <th>freq</th>\n",
       "      <td>12</td>\n",
       "      <td>2251</td>\n",
       "      <td>NaN</td>\n",
       "      <td>3503</td>\n",
       "      <td>1380</td>\n",
       "      <td>NaN</td>\n",
       "      <td>NaN</td>\n",
       "      <td>NaN</td>\n",
       "      <td>NaN</td>\n",
       "      <td>NaN</td>\n",
       "      <td>NaN</td>\n",
       "      <td>NaN</td>\n",
       "      <td>NaN</td>\n",
       "      <td>NaN</td>\n",
       "      <td>4120</td>\n",
       "    </tr>\n",
       "    <tr>\n",
       "      <th>mean</th>\n",
       "      <td>NaN</td>\n",
       "      <td>NaN</td>\n",
       "      <td>2006.630859</td>\n",
       "      <td>NaN</td>\n",
       "      <td>NaN</td>\n",
       "      <td>0.254534</td>\n",
       "      <td>0.140727</td>\n",
       "      <td>0.075020</td>\n",
       "      <td>0.045908</td>\n",
       "      <td>0.516469</td>\n",
       "      <td>68.912548</td>\n",
       "      <td>26.192059</td>\n",
       "      <td>7.117056</td>\n",
       "      <td>162.672480</td>\n",
       "      <td>NaN</td>\n",
       "    </tr>\n",
       "    <tr>\n",
       "      <th>std</th>\n",
       "      <td>NaN</td>\n",
       "      <td>NaN</td>\n",
       "      <td>5.901598</td>\n",
       "      <td>NaN</td>\n",
       "      <td>NaN</td>\n",
       "      <td>0.800673</td>\n",
       "      <td>0.497341</td>\n",
       "      <td>0.303412</td>\n",
       "      <td>0.183932</td>\n",
       "      <td>1.526124</td>\n",
       "      <td>13.964937</td>\n",
       "      <td>18.991526</td>\n",
       "      <td>1.502410</td>\n",
       "      <td>562.837954</td>\n",
       "      <td>NaN</td>\n",
       "    </tr>\n",
       "    <tr>\n",
       "      <th>min</th>\n",
       "      <td>NaN</td>\n",
       "      <td>NaN</td>\n",
       "      <td>1976.000000</td>\n",
       "      <td>NaN</td>\n",
       "      <td>NaN</td>\n",
       "      <td>0.000000</td>\n",
       "      <td>0.000000</td>\n",
       "      <td>0.000000</td>\n",
       "      <td>0.000000</td>\n",
       "      <td>0.010000</td>\n",
       "      <td>13.000000</td>\n",
       "      <td>3.000000</td>\n",
       "      <td>0.000000</td>\n",
       "      <td>4.000000</td>\n",
       "      <td>NaN</td>\n",
       "    </tr>\n",
       "    <tr>\n",
       "      <th>25%</th>\n",
       "      <td>NaN</td>\n",
       "      <td>NaN</td>\n",
       "      <td>2003.000000</td>\n",
       "      <td>NaN</td>\n",
       "      <td>NaN</td>\n",
       "      <td>0.000000</td>\n",
       "      <td>0.000000</td>\n",
       "      <td>0.000000</td>\n",
       "      <td>0.000000</td>\n",
       "      <td>0.050000</td>\n",
       "      <td>60.000000</td>\n",
       "      <td>11.000000</td>\n",
       "      <td>6.400000</td>\n",
       "      <td>10.000000</td>\n",
       "      <td>NaN</td>\n",
       "    </tr>\n",
       "    <tr>\n",
       "      <th>50%</th>\n",
       "      <td>NaN</td>\n",
       "      <td>NaN</td>\n",
       "      <td>2008.000000</td>\n",
       "      <td>NaN</td>\n",
       "      <td>NaN</td>\n",
       "      <td>0.070000</td>\n",
       "      <td>0.020000</td>\n",
       "      <td>0.000000</td>\n",
       "      <td>0.010000</td>\n",
       "      <td>0.160000</td>\n",
       "      <td>71.000000</td>\n",
       "      <td>21.000000</td>\n",
       "      <td>7.500000</td>\n",
       "      <td>25.000000</td>\n",
       "      <td>NaN</td>\n",
       "    </tr>\n",
       "    <tr>\n",
       "      <th>75%</th>\n",
       "      <td>NaN</td>\n",
       "      <td>NaN</td>\n",
       "      <td>2011.000000</td>\n",
       "      <td>NaN</td>\n",
       "      <td>NaN</td>\n",
       "      <td>0.230000</td>\n",
       "      <td>0.100000</td>\n",
       "      <td>0.030000</td>\n",
       "      <td>0.030000</td>\n",
       "      <td>0.450000</td>\n",
       "      <td>79.000000</td>\n",
       "      <td>36.000000</td>\n",
       "      <td>8.200000</td>\n",
       "      <td>81.000000</td>\n",
       "      <td>NaN</td>\n",
       "    </tr>\n",
       "    <tr>\n",
       "      <th>max</th>\n",
       "      <td>NaN</td>\n",
       "      <td>NaN</td>\n",
       "      <td>2017.000000</td>\n",
       "      <td>NaN</td>\n",
       "      <td>NaN</td>\n",
       "      <td>41.360000</td>\n",
       "      <td>28.960000</td>\n",
       "      <td>10.220000</td>\n",
       "      <td>10.570000</td>\n",
       "      <td>82.540000</td>\n",
       "      <td>98.000000</td>\n",
       "      <td>113.000000</td>\n",
       "      <td>9.700000</td>\n",
       "      <td>10766.000000</td>\n",
       "      <td>NaN</td>\n",
       "    </tr>\n",
       "  </tbody>\n",
       "</table>\n",
       "</div>"
      ],
      "text/plain": [
       "                               Name Platform  Year_of_Release   Genre  \\\n",
       "count                         17416    17416     17408.000000   17416   \n",
       "unique                        12080       31              NaN      12   \n",
       "top     Need for Speed: Most Wanted       DS              NaN  Action   \n",
       "freq                             12     2251              NaN    3503   \n",
       "mean                            NaN      NaN      2006.630859     NaN   \n",
       "std                             NaN      NaN         5.901598     NaN   \n",
       "min                             NaN      NaN      1976.000000     NaN   \n",
       "25%                             NaN      NaN      2003.000000     NaN   \n",
       "50%                             NaN      NaN      2008.000000     NaN   \n",
       "75%                             NaN      NaN      2011.000000     NaN   \n",
       "max                             NaN      NaN      2017.000000     NaN   \n",
       "\n",
       "              Publisher      NA_Sales      EU_Sales      JP_Sales  \\\n",
       "count             17415  17416.000000  17416.000000  17416.000000   \n",
       "unique              627           NaN           NaN           NaN   \n",
       "top     Electronic Arts           NaN           NaN           NaN   \n",
       "freq               1380           NaN           NaN           NaN   \n",
       "mean                NaN      0.254534      0.140727      0.075020   \n",
       "std                 NaN      0.800673      0.497341      0.303412   \n",
       "min                 NaN      0.000000      0.000000      0.000000   \n",
       "25%                 NaN      0.000000      0.000000      0.000000   \n",
       "50%                 NaN      0.070000      0.020000      0.000000   \n",
       "75%                 NaN      0.230000      0.100000      0.030000   \n",
       "max                 NaN     41.360000     28.960000     10.220000   \n",
       "\n",
       "         Other_Sales  Global_Sales  Critic_Score  Critic_Count   User_Score  \\\n",
       "count   17416.000000  17416.000000   8336.000000   8336.000000  7798.000000   \n",
       "unique           NaN           NaN           NaN           NaN          NaN   \n",
       "top              NaN           NaN           NaN           NaN          NaN   \n",
       "freq             NaN           NaN           NaN           NaN          NaN   \n",
       "mean        0.045908      0.516469     68.912548     26.192059     7.117056   \n",
       "std         0.183932      1.526124     13.964937     18.991526     1.502410   \n",
       "min         0.000000      0.010000     13.000000      3.000000     0.000000   \n",
       "25%         0.000000      0.050000     60.000000     11.000000     6.400000   \n",
       "50%         0.010000      0.160000     71.000000     21.000000     7.500000   \n",
       "75%         0.030000      0.450000     79.000000     36.000000     8.200000   \n",
       "max        10.570000     82.540000     98.000000    113.000000     9.700000   \n",
       "\n",
       "          User_Count Rating  \n",
       "count    7798.000000  10252  \n",
       "unique           NaN      8  \n",
       "top              NaN      E  \n",
       "freq             NaN   4120  \n",
       "mean      162.672480    NaN  \n",
       "std       562.837954    NaN  \n",
       "min         4.000000    NaN  \n",
       "25%        10.000000    NaN  \n",
       "50%        25.000000    NaN  \n",
       "75%        81.000000    NaN  \n",
       "max     10766.000000    NaN  "
      ]
     },
     "execution_count": 5,
     "metadata": {},
     "output_type": "execute_result"
    }
   ],
   "source": [
    "#Découverte du dataset\n",
    "project.describe(include=\"all\")"
   ]
  },
  {
   "cell_type": "markdown",
   "metadata": {},
   "source": [
    "## 3 - Cleaning et harmonisation du dataset"
   ]
  },
  {
   "cell_type": "code",
   "execution_count": 6,
   "metadata": {},
   "outputs": [],
   "source": [
    "# Création d'un dataset clone en vue du nettoyage\n",
    "cleanproject = project.copy()"
   ]
  },
  {
   "cell_type": "markdown",
   "metadata": {},
   "source": [
    "### 3.1 - Nettoyage du dataset\n",
    "- On observe certaines entrées renvoyant des valeurs NULL pour Year ou Publisher. Nous vérifierons ces entrées et les supprimerons en cas de non-pertinence. \n",
    "- L'objectif de notre étude est d'observer l'impact des Scorings et Ratings, en vue de prédire les ventes de Jeux Vidéos. L'imputation de médiane ou de moyenne me semblant peu pertinent sur ces variables, en particulier vu le nombre d'enregistrements NULL on décidera de supprimer les lignes ne renvoyant pas d'information sur ces données clé."
   ]
  },
  {
   "cell_type": "markdown",
   "metadata": {},
   "source": [
    "#### 3.1.a Cas des colonnes 'Publisher' ou 'Year_of_release' renvoyant NULL"
   ]
  },
  {
   "cell_type": "code",
   "execution_count": 7,
   "metadata": {},
   "outputs": [
    {
     "name": "stdout",
     "output_type": "stream",
     "text": [
      "          Name Platform  Year_of_Release   Genre Publisher  NA_Sales  \\\n",
      "16953  Sumioni      PSV              NaN  Action       NaN       0.0   \n",
      "\n",
      "       EU_Sales  JP_Sales  Other_Sales  Global_Sales  Critic_Score  \\\n",
      "16953       0.0      0.01          0.0          0.01           NaN   \n",
      "\n",
      "       Critic_Count  User_Score  User_Count Rating  \n",
      "16953           NaN         NaN         NaN    NaN  \n",
      "                                             Name Platform  Year_of_Release  \\\n",
      "12795                Mobile Ops: The One Year War     X360              NaN   \n",
      "14210                                Housekeeping       DS              NaN   \n",
      "14532            Fullmetal Alchemist: Brotherhood      PSP              NaN   \n",
      "15162                 Wii de Asobu: Metroid Prime      Wii              NaN   \n",
      "15784  Writing and Speaking Beautiful Japanese DS       DS              NaN   \n",
      "16176                Ferrari: The Race Experience      Wii              NaN   \n",
      "16953                                     Sumioni      PSV              NaN   \n",
      "17271                                Free Running      PSP              NaN   \n",
      "\n",
      "            Genre                 Publisher  NA_Sales  EU_Sales  JP_Sales  \\\n",
      "12795  Simulation        Namco Bandai Games       0.0      0.00      0.06   \n",
      "14210      Action                   Unknown       0.0      0.00      0.04   \n",
      "14532      Action                   Unknown       0.0      0.00      0.03   \n",
      "15162     Shooter                  Nintendo       0.0      0.00      0.02   \n",
      "15784        Misc                   Unknown       0.0      0.00      0.02   \n",
      "16176      Racing  System 3 Arcade Software       0.0      0.01      0.00   \n",
      "16953      Action                       NaN       0.0      0.00      0.01   \n",
      "17271      Sports        Reef Entertainment       0.0      0.00      0.00   \n",
      "\n",
      "       Other_Sales  Global_Sales  Critic_Score  Critic_Count  User_Score  \\\n",
      "12795          0.0          0.06           NaN           NaN         NaN   \n",
      "14210          0.0          0.04           NaN           NaN         NaN   \n",
      "14532          0.0          0.03           NaN           NaN         NaN   \n",
      "15162          0.0          0.02           NaN           NaN         NaN   \n",
      "15784          0.0          0.02           NaN           NaN         NaN   \n",
      "16176          0.0          0.02          54.0           4.0         NaN   \n",
      "16953          0.0          0.01           NaN           NaN         NaN   \n",
      "17271          0.0          0.01           NaN           NaN         NaN   \n",
      "\n",
      "       User_Count Rating  \n",
      "12795         NaN    NaN  \n",
      "14210         NaN    NaN  \n",
      "14532         NaN    NaN  \n",
      "15162         NaN    NaN  \n",
      "15784         NaN    NaN  \n",
      "16176         NaN      E  \n",
      "16953         NaN    NaN  \n",
      "17271         NaN      T  \n"
     ]
    }
   ],
   "source": [
    "#Entrées renvoyant un Publisher ou une année NULL\n",
    "print(cleanproject.loc[cleanproject['Publisher'].isnull()])\n",
    "print(cleanproject.loc[cleanproject['Year_of_Release'].isnull()])"
   ]
  },
  {
   "cell_type": "markdown",
   "metadata": {},
   "source": [
    "On observe que ce sont des données incomplètes et/ou marginales. On supprimera ces quelques entrées."
   ]
  },
  {
   "cell_type": "code",
   "execution_count": 8,
   "metadata": {},
   "outputs": [],
   "source": [
    "#Cleaning des lignes mentionnées\n",
    "cleanproject = cleanproject.dropna(subset =[\"Year_of_Release\",\"Publisher\"])"
   ]
  },
  {
   "cell_type": "markdown",
   "metadata": {},
   "source": [
    "#### 3.1.b Cas des colonnes principales Score et Rating de notre étude renvoyant NULL"
   ]
  },
  {
   "cell_type": "markdown",
   "metadata": {},
   "source": [
    "On commencera par une visualisation par année des données clés Score et Rating manquantes vs. le volume de données non-manquantes."
   ]
  },
  {
   "cell_type": "code",
   "execution_count": 9,
   "metadata": {},
   "outputs": [],
   "source": [
    "#En vue de la Visualisation, on définit nos clauses \"le jeu a tous ses Scorings - User & Critic-\" ainsi que \"le jeu a un Rating\"\n",
    "cleanproject[\"Has_Score\"] = cleanproject[\"User_Score\"].notnull() & cleanproject[\"Critic_Score\"].notnull()\n",
    "cleanproject[\"Has_Rating\"] = cleanproject[\"Rating\"].notnull()"
   ]
  },
  {
   "cell_type": "code",
   "execution_count": 10,
   "metadata": {},
   "outputs": [
    {
     "data": {
      "image/png": "[encoded data removed]",
      "text/plain": [
       "<Figure size 432x288 with 1 Axes>"
      ]
     },
     "metadata": {
      "needs_background": "light"
     },
     "output_type": "display_data"
    }
   ],
   "source": [
    "# Histogramme par année des scores manquants vs non-manquants\n",
    "plt.hist(cleanproject[cleanproject[\"Has_Score\"]==True][\"Year_of_Release\"], color=\"green\", alpha=0.5, bins=range(1980, 2020), edgecolor=\"grey\")\n",
    "plt.hist(cleanproject[cleanproject[\"Has_Score\"]==False][\"Year_of_Release\"], color=\"red\", alpha=0.5, bins=range(1980, 2020), edgecolor=\"grey\")\n",
    "plt.title(\"Distribution of year of release - User & Critic scores\")\n",
    "plt.xlabel(\"Year of release\")\n",
    "plt.ylabel(\"Number of games\")\n",
    "plt.legend(['True', 'False'],title=\"Has_Scores\", loc=6);"
   ]
  },
  {
   "cell_type": "markdown",
   "metadata": {},
   "source": [
    "**Concernant les Scores manquants** : On observe que la plupart des données manquantes concernent les jeux pré-année 2000 (données trop anciennes ?) et les jeux centrés autour de l'année 2010, point culminant du nombre de sorties (jeux \"noyés\" dans le volume de sorties et non-traités ?)."
   ]
  },
  {
   "cell_type": "code",
   "execution_count": 11,
   "metadata": {},
   "outputs": [
    {
     "data": {
      "image/png": "[encoded data removed]",
      "text/plain": [
       "<Figure size 432x288 with 1 Axes>"
      ]
     },
     "metadata": {
      "needs_background": "light"
     },
     "output_type": "display_data"
    }
   ],
   "source": [
    "# Histogramme par année des Rating manquants vs non-manquants\n",
    "plt.hist(cleanproject[cleanproject[\"Has_Rating\"]==True][\"Year_of_Release\"], color=\"green\", alpha=0.5, bins=range(1980, 2021), edgecolor=\"grey\")\n",
    "plt.hist(cleanproject[cleanproject[\"Has_Rating\"]==False][\"Year_of_Release\"], color=\"red\", alpha=0.5, bins=range(1980, 2021), edgecolor=\"grey\")\n",
    "plt.title(\"Distribution of year of release - Rating\")\n",
    "plt.xlabel(\"Year of release\")\n",
    "plt.ylabel(\"Number of games\")\n",
    "plt.legend(['True', 'False'],title=\"Has_Rating\", loc=6);"
   ]
  },
  {
   "cell_type": "markdown",
   "metadata": {},
   "source": [
    "**Concernant les Ratings manquants** : Idem, on observe que la plupart des données manquantes concernent les jeux pré-année 2000 (données trop anciennes ?) et les jeux centrés autour de l'année 2010, point culminant du nombre de sorties (jeux \"noyés\" dans le volume de sorties et non-traités ?)."
   ]
  },
  {
   "cell_type": "code",
   "execution_count": 12,
   "metadata": {},
   "outputs": [],
   "source": [
    "#Cleaning lié aux Scores et Rating\n",
    "cleanproject = cleanproject.dropna(subset =[\"User_Score\", \"Critic_Score\", \"Rating\"])"
   ]
  },
  {
   "cell_type": "code",
   "execution_count": 13,
   "metadata": {},
   "outputs": [
    {
     "name": "stdout",
     "output_type": "stream",
     "text": [
      "<class 'pandas.core.frame.DataFrame'>\n",
      "Int64Index: 7112 entries, 0 to 17407\n",
      "Data columns (total 17 columns):\n",
      " #   Column           Non-Null Count  Dtype  \n",
      "---  ------           --------------  -----  \n",
      " 0   Name             7112 non-null   object \n",
      " 1   Platform         7112 non-null   object \n",
      " 2   Year_of_Release  7112 non-null   float64\n",
      " 3   Genre            7112 non-null   object \n",
      " 4   Publisher        7112 non-null   object \n",
      " 5   NA_Sales         7112 non-null   float64\n",
      " 6   EU_Sales         7112 non-null   float64\n",
      " 7   JP_Sales         7112 non-null   float64\n",
      " 8   Other_Sales      7112 non-null   float64\n",
      " 9   Global_Sales     7112 non-null   float64\n",
      " 10  Critic_Score     7112 non-null   float64\n",
      " 11  Critic_Count     7112 non-null   float64\n",
      " 12  User_Score       7112 non-null   float64\n",
      " 13  User_Count       7112 non-null   float64\n",
      " 14  Rating           7112 non-null   object \n",
      " 15  Has_Score        7112 non-null   bool   \n",
      " 16  Has_Rating       7112 non-null   bool   \n",
      "dtypes: bool(2), float64(10), object(5)\n",
      "memory usage: 902.9+ KB\n"
     ]
    }
   ],
   "source": [
    "#Bilan\n",
    "cleanproject.info()"
   ]
  },
  {
   "cell_type": "markdown",
   "metadata": {},
   "source": [
    "### 3.2 - Gestion des outliers\n",
    "\n",
    "Le premier regard sur nos données (quartiles du .describe et Data Visualization ci-dessous) fait apparaitre de sérieux outliers sur les colonnes Count, Global_Sales, NA_Sales et EU_Sales.\n",
    "Les outliers sur les ventes pourraient être intéressants pour identifier les bestsellers mais dans le cadre de ce premier niveau de modèle de prédiction, on décide de les retirer.\n",
    "\n",
    "On se servira d'une fonction *importée* définissant un outlier comme \"toute valeur plus haute (ou plus basse) que le 3ème (ou 1er) quartile + (ou -) 3 interquartiles\"."
   ]
  },
  {
   "cell_type": "code",
   "execution_count": 14,
   "metadata": {},
   "outputs": [
    {
     "data": {
      "text/plain": [
       "<AxesSubplot:xlabel='User_Count'>"
      ]
     },
     "execution_count": 14,
     "metadata": {},
     "output_type": "execute_result"
    },
    {
     "data": {
      "image/png": "[encoded data removed]",
      "text/plain": [
       "<Figure size 432x288 with 1 Axes>"
      ]
     },
     "metadata": {
      "needs_background": "light"
     },
     "output_type": "display_data"
    }
   ],
   "source": [
    "#Diagramme à moustache pour observation des outliers User Count\n",
    "sns.boxplot(x=\"User_Count\",data=cleanproject)"
   ]
  },
  {
   "cell_type": "code",
   "execution_count": 15,
   "metadata": {},
   "outputs": [
    {
     "data": {
      "text/plain": [
       "<AxesSubplot:xlabel='Global_Sales'>"
      ]
     },
     "execution_count": 15,
     "metadata": {},
     "output_type": "execute_result"
    },
    {
     "data": {
      "image/png": "[encoded data removed]",
      "text/plain": [
       "<Figure size 432x288 with 1 Axes>"
      ]
     },
     "metadata": {
      "needs_background": "light"
     },
     "output_type": "display_data"
    }
   ],
   "source": [
    "#Diagramme à moustache pour observation des outliers Global Sales\n",
    "sns.boxplot(x=\"Global_Sales\",data=cleanproject)"
   ]
  },
  {
   "cell_type": "code",
   "execution_count": 16,
   "metadata": {},
   "outputs": [
    {
     "data": {
      "text/plain": [
       "<AxesSubplot:xlabel='EU_Sales'>"
      ]
     },
     "execution_count": 16,
     "metadata": {},
     "output_type": "execute_result"
    },
    {
     "data": {
      "image/png": "[encoded data removed]",
      "text/plain": [
       "<Figure size 432x288 with 1 Axes>"
      ]
     },
     "metadata": {
      "needs_background": "light"
     },
     "output_type": "display_data"
    }
   ],
   "source": [
    "#Diagramme à moustache pour observation des outliers EU Sales\n",
    "sns.boxplot(x=\"EU_Sales\",data=cleanproject)"
   ]
  },
  {
   "cell_type": "code",
   "execution_count": 17,
   "metadata": {},
   "outputs": [
    {
     "data": {
      "text/plain": [
       "<AxesSubplot:xlabel='NA_Sales'>"
      ]
     },
     "execution_count": 17,
     "metadata": {},
     "output_type": "execute_result"
    },
    {
     "data": {
      "image/png": "[encoded data removed]",
      "text/plain": [
       "<Figure size 432x288 with 1 Axes>"
      ]
     },
     "metadata": {
      "needs_background": "light"
     },
     "output_type": "display_data"
    }
   ],
   "source": [
    "#Diagramme à moustache pour observation des outliers NA Sales\n",
    "sns.boxplot(x=\"NA_Sales\",data=cleanproject)"
   ]
  },
  {
   "cell_type": "code",
   "execution_count": 18,
   "metadata": {},
   "outputs": [],
   "source": [
    "#Import de la fonction de définition & suppression des outliers\n",
    "# Définition de la fonction\n",
    "def outliers_remover(df, list_of_keys):\n",
    "    df_out = df\n",
    "    for key in list_of_keys:\n",
    "        # Définition de la méthode d'itération : calcul du premier et troisième quartile\n",
    "        first_quartile = df_out[key].describe()[\"25%\"]\n",
    "        third_quartile = df_out[key].describe()[\"75%\"]\n",
    "\n",
    "        # Calcul de l'écart interquartile\n",
    "        iqr = third_quartile - first_quartile\n",
    "\n",
    "        # Suppression des outliers\n",
    "        removed = df_out[(df_out[key] <= (first_quartile - 3 * iqr)) |\n",
    "                    (df_out[key] >= (third_quartile + 3 * iqr))] \n",
    "        df_out = df_out[(df_out[key] > (first_quartile - 3 * iqr)) &\n",
    "                    (df_out[key] < (third_quartile + 3 * iqr))]\n",
    "    return df_out, removed"
   ]
  },
  {
   "cell_type": "code",
   "execution_count": 19,
   "metadata": {},
   "outputs": [
    {
     "name": "stdout",
     "output_type": "stream",
     "text": [
      "<class 'pandas.core.frame.DataFrame'>\n",
      "Int64Index: 5752 entries, 783 to 17407\n",
      "Data columns (total 17 columns):\n",
      " #   Column           Non-Null Count  Dtype  \n",
      "---  ------           --------------  -----  \n",
      " 0   Name             5752 non-null   object \n",
      " 1   Platform         5752 non-null   object \n",
      " 2   Year_of_Release  5752 non-null   float64\n",
      " 3   Genre            5752 non-null   object \n",
      " 4   Publisher        5752 non-null   object \n",
      " 5   NA_Sales         5752 non-null   float64\n",
      " 6   EU_Sales         5752 non-null   float64\n",
      " 7   JP_Sales         5752 non-null   float64\n",
      " 8   Other_Sales      5752 non-null   float64\n",
      " 9   Global_Sales     5752 non-null   float64\n",
      " 10  Critic_Score     5752 non-null   float64\n",
      " 11  Critic_Count     5752 non-null   float64\n",
      " 12  User_Score       5752 non-null   float64\n",
      " 13  User_Count       5752 non-null   float64\n",
      " 14  Rating           5752 non-null   object \n",
      " 15  Has_Score        5752 non-null   bool   \n",
      " 16  Has_Rating       5752 non-null   bool   \n",
      "dtypes: bool(2), float64(10), object(5)\n",
      "memory usage: 730.2+ KB\n"
     ]
    }
   ],
   "source": [
    "#Lancement de la fonction de suppression des outliers sur nos colonnes User_Count, Global_ Sales, EU_Sales, NA_Sales\n",
    "cleanproject, clean_user_count = outliers_remover(cleanproject, [\"User_Count\"])\n",
    "cleanproject, clean_global = outliers_remover(cleanproject, [\"Global_Sales\"])\n",
    "cleanproject, clean_eu = outliers_remover(cleanproject, [\"EU_Sales\"])\n",
    "cleanproject, clean_na = outliers_remover(cleanproject, [\"NA_Sales\"])\n",
    "cleanproject.info()"
   ]
  },
  {
   "cell_type": "markdown",
   "metadata": {},
   "source": [
    "### 3.3 - Type de donnée de la colonne Year_of_Release\n",
    "\n",
    "Year_of_Release est reconnu comme un nombre décimal (FLOAT) : on aurait pu modifier le type de donnée pour le faire apparaitre comme une date renvoyant une année (format = %Y), mais on choisira plutôt de calculer une colonne \"Age\" renvoyant 2021 - la date de sortie du jeu pour faciliter son exploitation.\n"
   ]
  },
  {
   "cell_type": "code",
   "execution_count": 20,
   "metadata": {},
   "outputs": [],
   "source": [
    "#Création de la colonne Age et suppression de la colonne Year_of_Release\n",
    "cleanproject[\"Age\"] = pd.to_numeric(2021 - cleanproject[\"Year_of_Release\"])\n",
    "cleanproject.drop(['Year_of_Release'],axis  =1, inplace=True)"
   ]
  },
  {
   "cell_type": "markdown",
   "metadata": {},
   "source": [
    "### 3.4 - Uniformisation des User & Critic Scores"
   ]
  },
  {
   "cell_type": "markdown",
   "metadata": {},
   "source": [
    "Enfin, on observe que le score attribué par les critiques et par les utilisateurs ne sont pas sur la même base : 100 contre 10. On uniformisera la notation sur une base 100 à des fins de comparaison."
   ]
  },
  {
   "cell_type": "code",
   "execution_count": 21,
   "metadata": {},
   "outputs": [],
   "source": [
    "#Uniformisation des notes critiques et utilisateurs\n",
    "cleanproject['User_Score'] = cleanproject['User_Score']*10"
   ]
  },
  {
   "cell_type": "markdown",
   "metadata": {},
   "source": [
    "### 3.6 Catégorisation des éditeurs\n",
    "Du fait de l'important nombre d'éditeurs de jeu de notre dataset, et pour fiabiliser/améliorer l'exploitation des données, on décide de les regrouper en 8 grandes catégories suite à une étude par clustering réalisée sur Tableau Desktop.\n",
    "1. Mastodonte / Leader du marché (Nombre d'unité vendues supérieur à 200M) \n",
    "2. Editeur de majeur (Nombre d'unité vendues compris entre 150M et 200M)\n",
    "3. Editeur de très grande taille (Nombre d'unité vendues compris entre 100M et 150M)\n",
    "4. Editeur de grande taille (Nombre d'unité vendues compris entre 50M et 100M) \n",
    "5. Editeur de taille moyenne (Nombre d'unité vendues compris entre 20M et 50M) \n",
    "6. Editeur de petite taille (Nombre d'unité vendues compris entre 5M et 20M) \n",
    "7. Editeur de très petite taille (Nombre d'unité vendues compris entre 1M et 5M) \n",
    "8. Editeur mineur ou indépendant (Nombre d'unité vendues inférieur à 1M) "
   ]
  },
  {
   "cell_type": "code",
   "execution_count": 22,
   "metadata": {},
   "outputs": [
    {
     "data": {
      "text/plain": [
       "<seaborn.axisgrid.FacetGrid at 0x7fe426494f40>"
      ]
     },
     "execution_count": 22,
     "metadata": {},
     "output_type": "execute_result"
    },
    {
     "data": {
      "image/png": "[encoded data removed]",
      "text/plain": [
       "<Figure size 360x360 with 1 Axes>"
      ]
     },
     "metadata": {
      "needs_background": "light"
     },
     "output_type": "display_data"
    }
   ],
   "source": [
    "#Distribution pré-traitement : peu lisible et peu exploitable !\n",
    "sns.catplot(x=\"Publisher\",y=\"Global_Sales\",data=cleanproject,kind=\"bar\")"
   ]
  },
  {
   "cell_type": "code",
   "execution_count": 23,
   "metadata": {},
   "outputs": [],
   "source": [
    "#On groupe nos éditeurs par ventes totales dans un dataframe dédié\n",
    "Pcat = cleanproject.groupby(['Publisher']).sum()"
   ]
  },
  {
   "cell_type": "code",
   "execution_count": 24,
   "metadata": {},
   "outputs": [],
   "source": [
    "#On intègre nos catégories d'éditeur dans le dataframe nouvellement crée\n",
    "#On profite du traitement par séquence pour simplifier les connecteurs logiques\n",
    "Pcat.loc[Pcat['Global_Sales'] <= 1, 'Grouped_Publisher'] = 'Mineur ou indépendant'\n",
    "Pcat.loc[Pcat['Global_Sales'] > 1, 'Grouped_Publisher'] = 'Très petit'\n",
    "Pcat.loc[Pcat['Global_Sales'] > 5, 'Grouped_Publisher'] = 'Petit'\n",
    "Pcat.loc[Pcat['Global_Sales'] > 20, 'Grouped_Publisher'] = 'Moyen'\n",
    "Pcat.loc[Pcat['Global_Sales'] > 50, 'Grouped_Publisher'] = 'Grand'\n",
    "Pcat.loc[Pcat['Global_Sales'] > 100, 'Grouped_Publisher'] = 'Très grand'\n",
    "Pcat.loc[Pcat['Global_Sales'] > 150, 'Grouped_Publisher'] = 'Majeur'\n",
    "Pcat.loc[Pcat['Global_Sales'] > 200, 'Grouped_Publisher'] = 'Mastodonte'\n",
    "Pcat = Pcat['Grouped_Publisher']"
   ]
  },
  {
   "cell_type": "code",
   "execution_count": 25,
   "metadata": {},
   "outputs": [],
   "source": [
    "#On crée un nouveau dataset clone qui intégrera cet attribut (catégorie d'éditeur)\n",
    "#Puis on réalise la jointure sur la base du dataframe Pcat dédié à cet attribut\n",
    "cleanproject_merged = cleanproject\n",
    "cleanproject_merged = pd.merge(cleanproject_merged,Pcat, on = ['Publisher'],how=\"outer\")"
   ]
  },
  {
   "cell_type": "code",
   "execution_count": 26,
   "metadata": {},
   "outputs": [
    {
     "data": {
      "text/plain": [
       "<seaborn.axisgrid.FacetGrid at 0x7fe424213a90>"
      ]
     },
     "execution_count": 26,
     "metadata": {},
     "output_type": "execute_result"
    },
    {
     "data": {
      "image/png": "[encoded data removed]",
      "text/plain": [
       "<Figure size 360x360 with 1 Axes>"
      ]
     },
     "metadata": {
      "needs_background": "light"
     },
     "output_type": "display_data"
    }
   ],
   "source": [
    "#On étudie la pertinence du clustering sur le dataset complet ajusté. OK !\n",
    "sns.catplot(x=\"Grouped_Publisher\",y=\"Global_Sales\",data=cleanproject_merged,kind=\"bar\")"
   ]
  },
  {
   "cell_type": "markdown",
   "metadata": {},
   "source": [
    "# 4 - Vérification du cleaning"
   ]
  },
  {
   "cell_type": "code",
   "execution_count": 27,
   "metadata": {},
   "outputs": [
    {
     "name": "stdout",
     "output_type": "stream",
     "text": [
      "<class 'pandas.core.frame.DataFrame'>\n",
      "Int64Index: 5752 entries, 0 to 5751\n",
      "Data columns (total 18 columns):\n",
      " #   Column             Non-Null Count  Dtype  \n",
      "---  ------             --------------  -----  \n",
      " 0   Name               5752 non-null   object \n",
      " 1   Platform           5752 non-null   object \n",
      " 2   Genre              5752 non-null   object \n",
      " 3   Publisher          5752 non-null   object \n",
      " 4   NA_Sales           5752 non-null   float64\n",
      " 5   EU_Sales           5752 non-null   float64\n",
      " 6   JP_Sales           5752 non-null   float64\n",
      " 7   Other_Sales        5752 non-null   float64\n",
      " 8   Global_Sales       5752 non-null   float64\n",
      " 9   Critic_Score       5752 non-null   float64\n",
      " 10  Critic_Count       5752 non-null   float64\n",
      " 11  User_Score         5752 non-null   float64\n",
      " 12  User_Count         5752 non-null   float64\n",
      " 13  Rating             5752 non-null   object \n",
      " 14  Has_Score          5752 non-null   bool   \n",
      " 15  Has_Rating         5752 non-null   bool   \n",
      " 16  Age                5752 non-null   float64\n",
      " 17  Grouped_Publisher  5752 non-null   object \n",
      "dtypes: bool(2), float64(10), object(6)\n",
      "memory usage: 935.2+ KB\n"
     ]
    }
   ],
   "source": [
    "cleanproject_merged.info() "
   ]
  },
  {
   "cell_type": "markdown",
   "metadata": {},
   "source": [
    "# 5 - Export de nos données"
   ]
  },
  {
   "cell_type": "code",
   "execution_count": 28,
   "metadata": {},
   "outputs": [],
   "source": [
    "#Export en CSV\n",
    "cleanproject_merged.to_csv('CleanProject.csv')"
   ]
  }
 ],
 "metadata": {
  "kernelspec": {
   "display_name": "Python 3",
   "language": "python",
   "name": "python3"
  },
  "language_info": {
   "codemirror_mode": {
    "name": "ipython",
    "version": 3
   },
   "file_extension": ".py",
   "mimetype": "text/x-python",
   "name": "python",
   "nbconvert_exporter": "python",
   "pygments_lexer": "ipython3",
   "version": "3.8.6"
  }
 },
 "nbformat": 4,
 "nbformat_minor": 4
}
